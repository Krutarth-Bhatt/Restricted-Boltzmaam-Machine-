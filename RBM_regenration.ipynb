{
  "nbformat": 4,
  "nbformat_minor": 0,
  "metadata": {
    "colab": {
      "name": "RBM_regenration.ipynb",
      "provenance": [],
      "collapsed_sections": []
    },
    "kernelspec": {
      "display_name": "Python 3",
      "language": "python",
      "name": "python3"
    }
  },
  "cells": [
    {
      "cell_type": "code",
      "metadata": {
        "id": "6dBneUTB9VDj",
        "colab": {
          "base_uri": "https://localhost:8080/"
        },
        "outputId": "69c84bb1-059c-4612-a4d9-4bc169f0d2d9"
      },
      "source": [
        "from google.colab import drive\n",
        "drive.mount('/content/gdrive')\n"
      ],
      "execution_count": null,
      "outputs": [
        {
          "output_type": "stream",
          "text": [
            "Mounted at /content/gdrive\n"
          ],
          "name": "stdout"
        }
      ]
    },
    {
      "cell_type": "code",
      "metadata": {
        "id": "ei5ijo2w6UJG"
      },
      "source": [
        "import numpy as np\n",
        "import pandas as pd\n",
        "import time\n",
        "import matplotlib.pyplot as plt\n",
        "import random\n",
        "import time\n",
        "#import tensorflow as tf"
      ],
      "execution_count": null,
      "outputs": []
    },
    {
      "cell_type": "code",
      "metadata": {
        "id": "I7x_ufp06UJU",
        "colab": {
          "base_uri": "https://localhost:8080/"
        },
        "outputId": "d78554e3-5cf5-4591-8a3d-a874fe301401"
      },
      "source": [
        "#File loading\n",
        "d = np.array(pd.read_csv('/content/gdrive/My Drive/ML_datasets/train.csv'))\n",
        "\n",
        "random.shuffle(d)\n",
        "\n",
        "#Training data::\n",
        "x_train = d[:39000,1:]\n",
        "x_train = np.array(x_train)\n",
        "#x_train = x_train.T\n",
        "\n",
        "\"\"\"x_avg = np.sum(x_train, axis=0, keepdims=True)/39000\n",
        "x_train = x_train.astype(float)\n",
        "x_train -= x_avg\"\"\"\n",
        "\"\"\"x_sig = x_train**2\n",
        "x_sig = np.sum(x_sig, axis=0, keepdims=True)/39000\n",
        "x_train /= x_sig\"\"\"\n",
        "x_train = x_train/255\n",
        "print(x_train.shape)\n",
        "\n",
        "y_train = d[:39000,0]\n",
        "y_train = np.array([y_train])\n",
        "#print(y_train.shape)\n",
        "\n",
        "#Testing data::\n",
        "x_test = d[39000:,1:]\n",
        "x_test = np.array(x_test)\n",
        "#x_test = x_test.T\n",
        "\n",
        "\"\"\"x_avg = np.sum(x_test, axis=0, keepdims=True)/3000\n",
        "x_test = x_test.astype(float)\n",
        "x_test -= x_avg\"\"\"\n",
        "\"\"\"x_sig = x_test**2\n",
        "x_sig = np.sum(x_sig, axis=0, keepdims=True)/3000\n",
        "x_test /= x_sig\"\"\"\n",
        "x_test = x_test/255\n",
        "print(x_test.shape)\n",
        "\n",
        "y_test = d[39000:,0]\n",
        "y_test = np.array([y_test])\n",
        "print(y_test.shape)\n"
      ],
      "execution_count": null,
      "outputs": [
        {
          "output_type": "stream",
          "text": [
            "(39000, 784)\n",
            "(3000, 784)\n",
            "(1, 3000)\n"
          ],
          "name": "stdout"
        }
      ]
    },
    {
      "cell_type": "code",
      "metadata": {
        "id": "Bhlxbuih6UJg"
      },
      "source": [
        "class RBM:\n",
        "    \n",
        "    \n",
        "    def __init__(self, visible_neurons, hidden_neurons):\n",
        "        self.para = {}\n",
        "        self.para[\"b\"] = -0.4 * np.ones((1, hidden_neurons))\n",
        "        self.para[\"c\"] = np.zeros((1, visible_neurons))\n",
        "        self.para[\"w\"] = np.random.randn(hidden_neurons, visible_neurons) * 0.1\n",
        "        \n",
        "        \n",
        "        \n",
        "        \n",
        "        \n",
        "    #Trainning::\n",
        "    def train(self, batch_size, alpha, k, iterations, epochs):\n",
        "        tic = time.time()\n",
        "        \n",
        "        for j in range(epochs):\n",
        "            \n",
        "            for i in range(0, (int)(np.size(x_train,0)/batch_size), batch_size):\n",
        "                \n",
        "                xt = x_train[i:i+batch_size, :]\n",
        "            \n",
        "                xt1 = xt\n",
        "                \n",
        "                for c in range(iterations):\n",
        "                    # GIBBS SAMPLING::\n",
        "                    \n",
        "                    for d in range(k):\n",
        "                        h = self.sigmoid((np.dot(xt1,self.para[\"w\"].T)+self.para[\"b\"]))\n",
        "                        h = np.array(h)\n",
        "                        h.astype(float)\n",
        "                        \n",
        "                        #For using hidden layer with binary units:: \n",
        "                        '''rand = np.random.rand(np.size(h,0), np.size(h,1))\n",
        "                        rand = np.array(rand)\n",
        "                        h = np.where(h>rand, 1.0, 0.0)'''\n",
        "                        \n",
        "                        x_ = self.sigmoid((np.dot(h,self.para[\"w\"])+self.para[\"c\"]))\n",
        "                        xt1 = x_\n",
        "                    \n",
        "                    #Parameter Updation::\n",
        "                    \n",
        "                    hxt = np.array(self.sigmoid(np.dot(xt,self.para[\"w\"].T) + self.para[\"b\"])) # Hidden values given training data.\n",
        "                    hx_ = np.array(self.sigmoid(np.dot(xt1,self.para[\"w\"].T) + self.para[\"b\"]))# Hidden values given data after k gibbs sampling.\n",
        "                    \n",
        "                    self.para[\"w\"] = self.para[\"w\"] + alpha*(np.dot(hxt.T, xt) - np.dot(hx_.T, xt1))\n",
        "                    \n",
        "                    self.para[\"b\"] = self.para[\"b\"] + alpha*(hxt - hx_)\n",
        "                        #Averaging over All Training Examples::\n",
        "                    self.para[\"b\"] = np.sum(self.para[\"b\"], axis=0, keepdims=True)\n",
        "                    self.para[\"b\"] = self.para[\"b\"]/batch_size\n",
        "                    \n",
        "                    self.para[\"c\"] = self.para[\"c\"] + alpha*(xt - xt1)\n",
        "                        #Averaging over All Training Examples::\n",
        "                    self.para[\"c\"] = np.sum(self.para[\"c\"], axis=0, keepdims=True)\n",
        "                    self.para[\"c\"] = self.para[\"c\"]/batch_size\n",
        "                    \n",
        "        toc = time.time()            \n",
        "        print(\"Training time: \"+str((toc-tic)/60))         \n",
        "        \n",
        "        \n",
        "        \n",
        "        \n",
        "                        \n",
        "     \n",
        "    #Testing::\n",
        "    def test(self, a):\n",
        "        x_test1 = np.array(x_test[a:a+1,:])\n",
        "        \n",
        "        #For cutting the input image::\n",
        "        for i in range(392, 784):\n",
        "          x_test1[0,i]=0.0\n",
        "          \n",
        "        ht1 = self.sigmoid(np.dot(x_test1,self.para[\"w\"].T)+self.para[\"b\"])\n",
        "        ht1 = np.array(ht1)\n",
        "        ht1.astype(float)\n",
        "        \n",
        "        #For using hidden layer with binary units::\n",
        "        '''rand = np.random.rand(np.size(ht1,0), np.size(ht1,1))\n",
        "        rand = np.array(rand)\n",
        "        ht1 = np.where(ht1>rand,1.0,0.0)'''\n",
        "        \n",
        "        x_ = self.sigmoid(np.dot(ht1,self.para[\"w\"])+self.para[\"c\"])\n",
        "        x_ = x_\n",
        "        \n",
        "        plt.imshow(x_test1.reshape(28,28), \"gray\")\n",
        "        plt.show()\n",
        "        plt.imshow(x_.reshape(28,28), \"gray\")\n",
        "\n",
        "     \n",
        "    \n",
        "    \n",
        "    #Activation Function::\n",
        "    def sigmoid(self, x, derivative=False):\n",
        "        if (derivative == True):\n",
        "            return x * (1 - x)\n",
        "        return 1.0/ (1.0 + (np.exp(-x).astype(float)))        \n",
        "    \n",
        "    "
      ],
      "execution_count": null,
      "outputs": []
    },
    {
      "cell_type": "code",
      "metadata": {
        "id": "ph1DGQNR6UJq"
      },
      "source": [
        "rs = RBM(784, 250) #Initializing weights and biases."
      ],
      "execution_count": null,
      "outputs": []
    },
    {
      "cell_type": "code",
      "metadata": {
        "id": "08756ye76UJv",
        "colab": {
          "base_uri": "https://localhost:8080/"
        },
        "outputId": "69cc576d-35e7-434c-b14f-1ef37d07979c"
      },
      "source": [
        "rs.train(batch_size=100, alpha=0.006, k=100, iterations=5, epochs=100)"
      ],
      "execution_count": null,
      "outputs": [
        {
          "output_type": "stream",
          "text": [
            "Training time: 24.429541778564452\n"
          ],
          "name": "stdout"
        }
      ]
    },
    {
      "cell_type": "code",
      "metadata": {
        "id": "PegT1zXh6UJ2",
        "colab": {
          "base_uri": "https://localhost:8080/",
          "height": 513
        },
        "outputId": "35f25213-9df9-4373-bb25-9342e4523966"
      },
      "source": [
        " rs.test(140)"
      ],
      "execution_count": null,
      "outputs": [
        {
          "output_type": "display_data",
          "data": {
            "image/png": "[encoded data removed]",
            "text/plain": [
              "<Figure size 432x288 with 1 Axes>"
            ]
          },
          "metadata": {
            "tags": [],
            "needs_background": "light"
          }
        },
        {
          "output_type": "display_data",
          "data": {
            "image/png": "[encoded data removed]",
            "text/plain": [
              "<Figure size 432x288 with 1 Axes>"
            ]
          },
          "metadata": {
            "tags": [],
            "needs_background": "light"
          }
        }
      ]
    }
  ]
}